{
 "cells": [
  {
   "cell_type": "code",
   "execution_count": 1,
   "metadata": {
    "collapsed": true,
    "scrolled": true
   },
   "outputs": [],
   "source": [
    "import pandas as pd\n",
    "import pandas_datareader.data as web\n",
    "import datetime\n",
    "import quandl\n",
    "\n",
    "quandl_key = 'XJHgYSZCnRCrRojEbr9y'\n",
    "quandl.ApiConfig.api_key = quandl_key\n",
    "\n",
    "symbols = ['AAPL','AMZN','IBM','MSFT','EBAY']\n",
    "\n",
    "l =[]\n",
    "\n",
    "start = datetime.datetime(2012,7,31)\n",
    "end = datetime.datetime(2017,6,30)\n",
    "\n",
    "for symbol in symbols:\n",
    "    ticker = \"WIKI/\" + symbol\n",
    "    s_data = quandl.get(ticker, start_date=start, end_date=end)[\"Adj. Close\"]\n",
    "    l.append(s_data)"
   ]
  },
  {
   "cell_type": "code",
   "execution_count": 2,
   "metadata": {
    "collapsed": true
   },
   "outputs": [],
   "source": [
    "df = pd.concat(l,axis=1)\n",
    "df.columns = symbols"
   ]
  },
  {
   "cell_type": "code",
   "execution_count": 3,
   "metadata": {},
   "outputs": [
    {
     "data": {
      "text/html": [
       "<div>\n",
       "<style>\n",
       "    .dataframe thead tr:only-child th {\n",
       "        text-align: right;\n",
       "    }\n",
       "\n",
       "    .dataframe thead th {\n",
       "        text-align: left;\n",
       "    }\n",
       "\n",
       "    .dataframe tbody tr th {\n",
       "        vertical-align: top;\n",
       "    }\n",
       "</style>\n",
       "<table border=\"1\" class=\"dataframe\">\n",
       "  <thead>\n",
       "    <tr style=\"text-align: right;\">\n",
       "      <th></th>\n",
       "      <th>AAPL</th>\n",
       "      <th>AMZN</th>\n",
       "      <th>IBM</th>\n",
       "      <th>MSFT</th>\n",
       "      <th>EBAY</th>\n",
       "    </tr>\n",
       "    <tr>\n",
       "      <th>Date</th>\n",
       "      <th></th>\n",
       "      <th></th>\n",
       "      <th></th>\n",
       "      <th></th>\n",
       "      <th></th>\n",
       "    </tr>\n",
       "  </thead>\n",
       "  <tbody>\n",
       "    <tr>\n",
       "      <th>2012-07-31</th>\n",
       "      <td>78.491173</td>\n",
       "      <td>233.30</td>\n",
       "      <td>167.112403</td>\n",
       "      <td>25.428906</td>\n",
       "      <td>17.428339</td>\n",
       "    </tr>\n",
       "    <tr>\n",
       "      <th>2012-08-01</th>\n",
       "      <td>77.983543</td>\n",
       "      <td>232.09</td>\n",
       "      <td>166.430242</td>\n",
       "      <td>25.377134</td>\n",
       "      <td>17.267039</td>\n",
       "    </tr>\n",
       "    <tr>\n",
       "      <th>2012-08-02</th>\n",
       "      <td>78.109486</td>\n",
       "      <td>230.81</td>\n",
       "      <td>165.807770</td>\n",
       "      <td>25.187301</td>\n",
       "      <td>17.219829</td>\n",
       "    </tr>\n",
       "    <tr>\n",
       "      <th>2012-08-03</th>\n",
       "      <td>79.126031</td>\n",
       "      <td>234.97</td>\n",
       "      <td>169.278264</td>\n",
       "      <td>25.670511</td>\n",
       "      <td>17.507023</td>\n",
       "    </tr>\n",
       "    <tr>\n",
       "      <th>2012-08-06</th>\n",
       "      <td>80.006352</td>\n",
       "      <td>233.99</td>\n",
       "      <td>169.482912</td>\n",
       "      <td>25.843086</td>\n",
       "      <td>17.613245</td>\n",
       "    </tr>\n",
       "  </tbody>\n",
       "</table>\n",
       "</div>"
      ],
      "text/plain": [
       "                 AAPL    AMZN         IBM       MSFT       EBAY\n",
       "Date                                                           \n",
       "2012-07-31  78.491173  233.30  167.112403  25.428906  17.428339\n",
       "2012-08-01  77.983543  232.09  166.430242  25.377134  17.267039\n",
       "2012-08-02  78.109486  230.81  165.807770  25.187301  17.219829\n",
       "2012-08-03  79.126031  234.97  169.278264  25.670511  17.507023\n",
       "2012-08-06  80.006352  233.99  169.482912  25.843086  17.613245"
      ]
     },
     "execution_count": 3,
     "metadata": {},
     "output_type": "execute_result"
    }
   ],
   "source": [
    "df.head()"
   ]
  },
  {
   "cell_type": "code",
   "execution_count": null,
   "metadata": {
    "collapsed": true
   },
   "outputs": [],
   "source": []
  }
 ],
 "metadata": {
  "kernelspec": {
   "display_name": "Python 3",
   "language": "python",
   "name": "python3"
  },
  "language_info": {
   "codemirror_mode": {
    "name": "ipython",
    "version": 3
   },
   "file_extension": ".py",
   "mimetype": "text/x-python",
   "name": "python",
   "nbconvert_exporter": "python",
   "pygments_lexer": "ipython3",
   "version": "3.6.3"
  }
 },
 "nbformat": 4,
 "nbformat_minor": 2
}
